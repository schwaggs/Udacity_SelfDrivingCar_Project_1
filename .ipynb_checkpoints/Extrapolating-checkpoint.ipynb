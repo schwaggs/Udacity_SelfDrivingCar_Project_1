{
 "cells": [
  {
   "cell_type": "markdown",
   "metadata": {},
   "source": [
    "## Find the center and slope of each line segment"
   ]
  },
  {
   "cell_type": "code",
   "execution_count": 6,
   "metadata": {},
   "outputs": [],
   "source": [
    "def centers_slopes(lines, slope_cap):\n",
    "    rcenter = []\n",
    "    lcenter = []\n",
    "    rslope = []\n",
    "    lslope = []\n",
    "    \n",
    "    for line in lines:\n",
    "        for x1,y1,x2,y2 in line:\n",
    "            m = (y2 - y1) / (x2 - x1)\n",
    "            c = ((x2 + x1) / 2, (y2 + y1)/2)\n",
    "            \n",
    "            if (m >= 0) and (m <= slope_cap):\n",
    "                rcenter.append(c)\n",
    "                rslope.append(m)\n",
    "                \n",
    "            elif(m <= 0) and (m >= -slope_cap):\n",
    "                lcenter.append(c)\n",
    "                lslope.append(m)\n",
    "                \n",
    "    return ((rcenter, lcenter), (rslope, lslope))\n",
    "                "
   ]
  },
  {
   "cell_type": "markdown",
   "metadata": {},
   "source": [
    "## Find a single center and slope using average"
   ]
  },
  {
   "cell_type": "code",
   "execution_count": 9,
   "metadata": {},
   "outputs": [],
   "source": [
    "def center_slope(centers, slopes):\n",
    "    rcenter = np.divide(np.sum(centers[0], axis=0), len(centers[0]))\n",
    "    lcenter = np.divide(np.sum(centers[1], axis=0), len(centers[1]))\n",
    "    rslope = np.sum(slopes[0]) / len(slopes[0])\n",
    "    lslope = np.sum(slopes[1]) / len(slopes[1])\n",
    "    \n",
    "    return ((rcenter, lcenter), (rslope, lslope))\n",
    "    "
   ]
  },
  {
   "cell_type": "markdown",
   "metadata": {},
   "source": [
    "## Find X and Y equation parameters"
   ]
  },
  {
   "cell_type": "code",
   "execution_count": 10,
   "metadata": {},
   "outputs": [],
   "source": [
    "def X_Y(centers, slopes):\n",
    "    \n",
    "    # x' and y'\n",
    "    rcenter = centers[0]\n",
    "    lcenter = centers[1]\n",
    "    # m\n",
    "    rslope = slopes[0]\n",
    "    lslope = slopes[1]\n",
    "    \n",
    "    # X = (y - y')/m + x'\n",
    "    XL = (-lcenter[1], lslope, lcenter[0])\n",
    "    XR = (-rcenter[1], rslope, rcenter[0])\n",
    "    # Y = m(x - x') + y'\n",
    "    YL = (lslope, -lcenter[0], lcenter[1])\n",
    "    YR = (rslope, -rcenter[0], rcenter[1])\n",
    "    \n",
    "    return (XR, YR, XL, YL)"
   ]
  },
  {
   "cell_type": "markdown",
   "metadata": {},
   "source": [
    "## Calculate endpoints for each line"
   ]
  },
  {
   "cell_type": "code",
   "execution_count": null,
   "metadata": {},
   "outputs": [],
   "source": [
    "def endpoints(XR, XL, vertices):\n",
    "    bottomLeft = vertices[0]\n",
    "    topLeft = vertices[1]\n",
    "    topRight = vertices[2]\n",
    "    bottomRight = vertices[3]\n",
    "    \n",
    "    # X = (y - y')/m + x'\n",
    "    L_y1 = topLeft[1]\n",
    "    L_x1 = (L_y1 - XL[0])/XL[1] + XL[2]\n",
    "    \n",
    "    L_y2 = bottomLeft[1]\n",
    "    L_x2 = (L_y2 - XL[0])/XL[1] + XL[2]\n",
    "    \n",
    "    R_y1 = topRight[1]\n",
    "    R_x1 = (R_y1 - XR[0])/XR[1] + XR[2]\n",
    "    \n",
    "    R_y2 = bottomRight[1]\n",
    "    R_x2 = (R_y2 - XR[0])/XR[1] + XR[2]\n",
    "    \n",
    "    return((L_x1, L_y1), (L_x2, L_y2), (R_x1, R_y1), (R_x2, R_y2))"
   ]
  },
  {
   "cell_type": "code",
   "execution_count": 11,
   "metadata": {},
   "outputs": [
    {
     "name": "stdout",
     "output_type": "stream",
     "text": [
      "C:\\Users\\joschwei\\AppData\\Roaming\\jupyter\n"
     ]
    }
   ],
   "source": [
    "from jupyter_core.paths import jupyter_data_dir\n",
    "print(jupyter_data_dir())"
   ]
  },
  {
   "cell_type": "code",
   "execution_count": null,
   "metadata": {},
   "outputs": [],
   "source": []
  }
 ],
 "metadata": {
  "kernelspec": {
   "display_name": "Python 3",
   "language": "python",
   "name": "python3"
  },
  "language_info": {
   "codemirror_mode": {
    "name": "ipython",
    "version": 3
   },
   "file_extension": ".py",
   "mimetype": "text/x-python",
   "name": "python",
   "nbconvert_exporter": "python",
   "pygments_lexer": "ipython3",
   "version": "3.6.5"
  }
 },
 "nbformat": 4,
 "nbformat_minor": 2
}
